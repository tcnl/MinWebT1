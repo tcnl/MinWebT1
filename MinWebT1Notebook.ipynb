{
 "cells": [
  {
   "cell_type": "code",
   "execution_count": 35,
   "metadata": {},
   "outputs": [],
   "source": [
    "#Imports\n",
    "import os, os.path\n",
    "from whoosh import index\n",
    "from whoosh import fields\n",
    "from whoosh.analysis import StemmingAnalyzer\n",
    "from whoosh.analysis import StandardAnalyzer\n",
    "from whoosh.analysis import StopFilter\n",
    "from whoosh.lang.porter import stem\n",
    "import glob\n",
    "import codecs\n",
    "from whoosh import scoring"
   ]
  },
  {
   "cell_type": "code",
   "execution_count": 2,
   "metadata": {},
   "outputs": [],
   "source": [
    "#SEM STEMMING/STOPWORDS\n",
    "if not os.path.exists(\"stan\"):\n",
    "    os.mkdir(\"stan\")\n",
    "    \n",
    "stan_ana = StandardAnalyzer(stoplist=None)\n",
    "schema_stan = fields.Schema(title=fields.TEXT(analyzer=stan_ana, stored=True), content=fields.TEXT(analyzer=stan_ana))\n",
    "\n",
    "ix_stan = index.create_in(\"stan\", schema_stan)"
   ]
  },
  {
   "cell_type": "code",
   "execution_count": 3,
   "metadata": {},
   "outputs": [],
   "source": [
    "#COM STEMMING\n",
    "if not os.path.exists(\"stem\"):\n",
    "    os.mkdir(\"stem\")\n",
    "    \n",
    "stem_ana = StemmingAnalyzer(stoplist=None, minsize=2, maxsize=None, gaps=False, stemfn=stem, ignore=None, cachesize=50000)\n",
    "schema_stem = fields.Schema(title=fields.TEXT(analyzer=stem_ana, stored=True), content=fields.TEXT(analyzer=stem_ana))\n",
    "\n",
    "ix_stem = index.create_in(\"stem\", schema_stem)"
   ]
  },
  {
   "cell_type": "code",
   "execution_count": 4,
   "metadata": {},
   "outputs": [],
   "source": [
    "#COM STOPWORDS\n",
    "if not os.path.exists(\"stop\"):\n",
    "    os.mkdir(\"stop\")\n",
    "    \n",
    "stop_ana = StandardAnalyzer(stoplist=frozenset(['and', 'is', 'it', 'an', 'as', 'at', 'have', 'in', 'yet', 'if', 'from', 'for', 'when', 'by', 'to', 'you', 'be', 'we', 'that', 'may', 'not', 'with', 'tbd', 'a', 'on', 'your', 'this', 'of', 'us', 'will', 'can', 'the', 'or', 'are']))\n",
    "schema_stop = fields.Schema(title=fields.TEXT(analyzer=stop_ana, stored=True), content=fields.TEXT(analyzer=stop_ana))\n",
    "\n",
    "ix_stop = index.create_in(\"stop\", schema_stop)"
   ]
  },
  {
   "cell_type": "code",
   "execution_count": 5,
   "metadata": {},
   "outputs": [],
   "source": [
    "#COM STEMMING E STOPWORDS\n",
    "if not os.path.exists(\"all\"):\n",
    "    os.mkdir(\"all\")\n",
    "    \n",
    "all_ana = StemmingAnalyzer(stoplist=frozenset(['and', 'is', 'it', 'an', 'as', 'at', 'have', 'in', 'yet', 'if', 'from', 'for', 'when', 'by', 'to', 'you', 'be', 'we', 'that', 'may', 'not', 'with', 'tbd', 'a', 'on', 'your', 'this', 'of', 'us', 'will', 'can', 'the', 'or', 'are']), minsize=2, maxsize=None, gaps=False, stemfn=stem, ignore=None, cachesize=50000)\n",
    "schema_all = fields.Schema(title=fields.TEXT(analyzer=all_ana, stored=True), content=fields.TEXT(analyzer=all_ana))\n",
    "\n",
    "ix_all = index.create_in(\"all\", schema_all)"
   ]
  },
  {
   "cell_type": "code",
   "execution_count": 6,
   "metadata": {},
   "outputs": [
    {
     "name": "stdout",
     "output_type": "stream",
     "text": [
      "./docs/11606_2013_Article_2455.pdf\n",
      "11606_2013_Article_2455.pdf\n",
      "./docs/2_The_New_York_Times_on_The_Age_of_Big_D.pdf\n",
      "2_The_New_York_Times_on_The_Age_of_Big_D.pdf\n",
      "./docs/A framework for smart transportation using Big Data.pdf\n",
      "A framework for smart transportation using Big Data.pdf\n",
      "./docs/A personalized recommendation engine for prediction of disorders using big data analytics.pdf\n",
      "A personalized recommendation engine for prediction of disorders using big data analytics.pdf\n",
      "./docs/Application of Analytics to Big Data in Healthcare.pdf\n",
      "Application of Analytics to Big Data in Healthcare.pdf\n",
      "./docs/big data JAMA 2013.pdf\n",
      "big data JAMA 2013.pdf\n",
      "./docs/Big data platform for public health policies.pdf\n",
      "Big data platform for public health policies.pdf\n",
      "./docs/Big Data- Big Knowledge Big Data for Personalized Healthcare.pdf\n",
      "Big Data- Big Knowledge Big Data for Personalized Healthcare.pdf\n",
      "./docs/Big-Data Based Decision-Support Systems to Improve Clinicians- Cognition.pdf\n",
      "Big-Data Based Decision-Support Systems to Improve Clinicians- Cognition.pdf\n",
      "./docs/Biomedical Big Data for Clinical Research and Patient Care Role of Semantic Computing.pdf\n",
      "Biomedical Big Data for Clinical Research and Patient Care Role of Semantic Computing.pdf\n",
      "./docs/Business model canvas perspective on big data applications.pdf\n",
      "Business model canvas perspective on big data applications.pdf\n",
      "./docs/E2-2013.04-The-big-data-revolution-in-US-health-care-Accelerating-value-and-innovation.pdf\n",
      "E2-2013.04-The-big-data-revolution-in-US-health-care-Accelerating-value-and-innovation.pdf\n",
      "./docs/Efficient privacy preservation technique for healthcare records using big data.pdf\n",
      "Efficient privacy preservation technique for healthcare records using big data.pdf\n",
      "./docs/Exploitation of -Big Data- The experience feedback of the french military health service on sanitary data.pdf\n",
      "Exploitation of -Big Data- The experience feedback of the french military health service on sanitary data.pdf\n",
      "./docs/Health information exchange in the wake of -big data- paradigm - The theme is from -quality of information to quality of life-.pdf\n",
      "Health information exchange in the wake of -big data- paradigm - The theme is from -quality of information to quality of life-.pdf\n",
      "./docs/hlthaff.2014.0041.pdf\n",
      "hlthaff.2014.0041.pdf\n",
      "./docs/hlthaff.2014.0053.pdf\n",
      "hlthaff.2014.0053.pdf\n",
      "./docs/hlthaff.2014.0771.pdf\n",
      "hlthaff.2014.0771.pdf\n",
      "./docs/Information accountability and Health Big Data Analytics A consent-based model.pdf\n",
      "Information accountability and Health Big Data Analytics A consent-based model.pdf\n",
      "./docs/isre.2014.0546.pdf\n",
      "isre.2014.0546.pdf\n",
      "./docs/journal.pcbi.1003904.PDF\n",
      "journal.pcbi.1003904.PDF\n",
      "./docs/nihms743582.pdf\n",
      "nihms743582.pdf\n",
      "./docs/nihms821556.pdf\n",
      "nihms821556.pdf\n",
      "./docs/Research on Application of Healthcare Data in Big Data Era.pdf\n",
      "Research on Application of Healthcare Data in Big Data Era.pdf\n",
      "./docs/Review of big data tools for healthcare system with case study on patient database storage methodology.pdf\n",
      "Review of big data tools for healthcare system with case study on patient database storage methodology.pdf\n",
      "./docs/Security in big data of medical records.pdf\n",
      "Security in big data of medical records.pdf\n",
      "./docs/The Industry Data Analysis Processing Model Design The Regional Health Disease Trend Analysis Model.pdf\n",
      "The Industry Data Analysis Processing Model Design The Regional Health Disease Trend Analysis Model.pdf\n",
      "./docs/V2I241.pdf\n",
      "V2I241.pdf\n"
     ]
    }
   ],
   "source": [
    "ix_stan = index.open_dir(\"./stan\")\n",
    "ix_stem = index.open_dir(\"./stem\")\n",
    "ix_stop = index.open_dir(\"./stop\")\n",
    "ix_all = index.open_dir(\"./all\")\n",
    "\n",
    "w_stem = ix_stem.writer()\n",
    "w_stan = ix_stan.writer()\n",
    "w_stop = ix_stop.writer()\n",
    "w_all = ix_all.writer()\n",
    "\n",
    "for path in glob.glob(\"./docs/*.pdf\"):\n",
    "    path = path.replace(\"\\\\\",\"/\")\n",
    "    print(\"LENDO ARQUIVOS...\")\n",
    "    with open(path, \"r\",encoding=\"utf-8\", errors='ignore') as f:\n",
    "        content = f.read()\n",
    "        print(os.path.basename(path))\n",
    "        w_stem.add_document(title=os.path.basename(path), content=content)\n",
    "        w_stan.add_document(title=os.path.basename(path), content=content)\n",
    "        w_stop.add_document(title=os.path.basename(path), content=content)\n",
    "        w_all.add_document(title=os.path.basename(path), content=content)\n",
    "        f.close()\n",
    "print(\"LEITURA E ADIÇÃO COMPLETAS!\\n\")\n",
    "print(\"Commitando Stemming\")\n",
    "w_stem.commit()\n",
    "print(\"Commitando Standard\")\n",
    "w_stan.commit()\n",
    "print(\"Commitando Stopwords\")\n",
    "w_stop.commit()\n",
    "print(\"Commitando Stemming+Stopwords\")\n",
    "w_all.commit()"
   ]
  },
  {
   "cell_type": "code",
   "execution_count": 37,
   "metadata": {},
   "outputs": [
    {
     "name": "stdout",
     "output_type": "stream",
     "text": [
      "RESULTADOS STANDARD:  3\n"
     ]
    },
    {
     "data": {
      "text/plain": [
       "<Hit {'title': 'Big data platform for public health policies.pdf'}>"
      ]
     },
     "metadata": {},
     "output_type": "display_data"
    },
    {
     "data": {
      "text/plain": [
       "<Hit {'title': 'nihms743582.pdf'}>"
      ]
     },
     "metadata": {},
     "output_type": "display_data"
    },
    {
     "data": {
      "text/plain": [
       "<Hit {'title': 'hlthaff.2014.0053.pdf'}>"
      ]
     },
     "metadata": {},
     "output_type": "display_data"
    },
    {
     "name": "stdout",
     "output_type": "stream",
     "text": [
      "RESULTADOS STEM:  3\n"
     ]
    },
    {
     "data": {
      "text/plain": [
       "<Hit {'title': 'Big data platform for public health policies.pdf'}>"
      ]
     },
     "metadata": {},
     "output_type": "display_data"
    },
    {
     "data": {
      "text/plain": [
       "<Hit {'title': 'nihms743582.pdf'}>"
      ]
     },
     "metadata": {},
     "output_type": "display_data"
    },
    {
     "data": {
      "text/plain": [
       "<Hit {'title': 'hlthaff.2014.0053.pdf'}>"
      ]
     },
     "metadata": {},
     "output_type": "display_data"
    },
    {
     "name": "stdout",
     "output_type": "stream",
     "text": [
      "RESULTADOS STOP:  9\n"
     ]
    },
    {
     "data": {
      "text/plain": [
       "<Hit {'title': 'journal.pcbi.1003904.PDF'}>"
      ]
     },
     "metadata": {},
     "output_type": "display_data"
    },
    {
     "data": {
      "text/plain": [
       "<Hit {'title': 'Big data platform for public health policies.pdf'}>"
      ]
     },
     "metadata": {},
     "output_type": "display_data"
    },
    {
     "data": {
      "text/plain": [
       "<Hit {'title': 'nihms743582.pdf'}>"
      ]
     },
     "metadata": {},
     "output_type": "display_data"
    },
    {
     "data": {
      "text/plain": [
       "<Hit {'title': 'hlthaff.2014.0771.pdf'}>"
      ]
     },
     "metadata": {},
     "output_type": "display_data"
    },
    {
     "data": {
      "text/plain": [
       "<Hit {'title': 'The Industry Data Analysis Processing Model Design The Regional Health Disease Trend Analysis Model.pdf'}>"
      ]
     },
     "metadata": {},
     "output_type": "display_data"
    },
    {
     "data": {
      "text/plain": [
       "<Hit {'title': 'Information accountability and Health Big Data Analytics A consent-based model.pdf'}>"
      ]
     },
     "metadata": {},
     "output_type": "display_data"
    },
    {
     "data": {
      "text/plain": [
       "<Hit {'title': 'Big-Data Based Decision-Support Systems to Improve Clinicians- Cognition.pdf'}>"
      ]
     },
     "metadata": {},
     "output_type": "display_data"
    },
    {
     "data": {
      "text/plain": [
       "<Hit {'title': 'hlthaff.2014.0041.pdf'}>"
      ]
     },
     "metadata": {},
     "output_type": "display_data"
    },
    {
     "data": {
      "text/plain": [
       "<Hit {'title': 'hlthaff.2014.0053.pdf'}>"
      ]
     },
     "metadata": {},
     "output_type": "display_data"
    },
    {
     "name": "stdout",
     "output_type": "stream",
     "text": [
      "RESULTADOS ALL:  9\n"
     ]
    },
    {
     "data": {
      "text/plain": [
       "<Hit {'title': 'journal.pcbi.1003904.PDF'}>"
      ]
     },
     "metadata": {},
     "output_type": "display_data"
    },
    {
     "data": {
      "text/plain": [
       "<Hit {'title': 'Big data platform for public health policies.pdf'}>"
      ]
     },
     "metadata": {},
     "output_type": "display_data"
    },
    {
     "data": {
      "text/plain": [
       "<Hit {'title': 'nihms743582.pdf'}>"
      ]
     },
     "metadata": {},
     "output_type": "display_data"
    },
    {
     "data": {
      "text/plain": [
       "<Hit {'title': 'hlthaff.2014.0771.pdf'}>"
      ]
     },
     "metadata": {},
     "output_type": "display_data"
    },
    {
     "data": {
      "text/plain": [
       "<Hit {'title': 'The Industry Data Analysis Processing Model Design The Regional Health Disease Trend Analysis Model.pdf'}>"
      ]
     },
     "metadata": {},
     "output_type": "display_data"
    },
    {
     "data": {
      "text/plain": [
       "<Hit {'title': 'Information accountability and Health Big Data Analytics A consent-based model.pdf'}>"
      ]
     },
     "metadata": {},
     "output_type": "display_data"
    },
    {
     "data": {
      "text/plain": [
       "<Hit {'title': 'Big-Data Based Decision-Support Systems to Improve Clinicians- Cognition.pdf'}>"
      ]
     },
     "metadata": {},
     "output_type": "display_data"
    },
    {
     "data": {
      "text/plain": [
       "<Hit {'title': 'hlthaff.2014.0041.pdf'}>"
      ]
     },
     "metadata": {},
     "output_type": "display_data"
    },
    {
     "data": {
      "text/plain": [
       "<Hit {'title': 'hlthaff.2014.0053.pdf'}>"
      ]
     },
     "metadata": {},
     "output_type": "display_data"
    }
   ],
   "source": [
    "from whoosh.qparser import QueryParser\n",
    "\n",
    "search = \"big data for health\"\n",
    "\n",
    "with ix_stan.searcher(weighting=scoring.TF_IDF()) as searcher:\n",
    "    query = QueryParser(\"content\", ix_stan.schema).parse(search)\n",
    "    results = searcher.search(query)\n",
    "    print(\"RESULTADOS STANDARD: \", len(results))\n",
    "    for result in results:\n",
    "        display(result)\n",
    "\n",
    "with ix_stem.searcher(weighting=scoring.TF_IDF()) as searcher:\n",
    "    query = QueryParser(\"content\", ix_stem.schema).parse(search)\n",
    "    results = searcher.search(query)\n",
    "    print(\"RESULTADOS STEM: \", len(results))\n",
    "    for result in results:\n",
    "        display(result)\n",
    "\n",
    "with ix_stop.searcher(weighting=scoring.TF_IDF()) as searcher:\n",
    "    query = QueryParser(\"content\", ix_stop.schema).parse(search)\n",
    "    results = searcher.search(query)\n",
    "    print(\"RESULTADOS STOP: \", len(results))\n",
    "    for result in results:\n",
    "        display(result)\n",
    "        \n",
    "with ix_all.searcher(weighting=scoring.TF_IDF()) as searcher:\n",
    "    query = QueryParser(\"content\", ix_all.schema).parse(search)\n",
    "    results = searcher.search(query)\n",
    "    print(\"RESULTADOS ALL: \", len(results))\n",
    "    for result in results:\n",
    "        display(result)"
   ]
  },
  {
   "cell_type": "code",
   "execution_count": 33,
   "metadata": {},
   "outputs": [
    {
     "name": "stdout",
     "output_type": "stream",
     "text": [
      "['content', 'title']\n"
     ]
    }
   ],
   "source": [
    "print(ix_all.schema.names())"
   ]
  },
  {
   "cell_type": "code",
   "execution_count": null,
   "metadata": {},
   "outputs": [],
   "source": []
  }
 ],
 "metadata": {
  "kernelspec": {
   "display_name": "Python 3",
   "language": "python",
   "name": "python3"
  },
  "language_info": {
   "codemirror_mode": {
    "name": "ipython",
    "version": 3
   },
   "file_extension": ".py",
   "mimetype": "text/x-python",
   "name": "python",
   "nbconvert_exporter": "python",
   "pygments_lexer": "ipython3",
   "version": "3.6.5"
  }
 },
 "nbformat": 4,
 "nbformat_minor": 2
}
